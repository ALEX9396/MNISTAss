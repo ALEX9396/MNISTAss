{
  "nbformat": 4,
  "nbformat_minor": 0,
  "metadata": {
    "colab": {
      "name": "MNISTAss.ipynb",
      "provenance": [],
      "collapsed_sections": []
    },
    "kernelspec": {
      "name": "python3",
      "display_name": "Python 3"
    },
    "language_info": {
      "name": "python"
    }
  },
  "cells": [
    {
      "cell_type": "code",
      "execution_count": null,
      "metadata": {
        "id": "xHe6DgPz_HB4"
      },
      "outputs": [],
      "source": [
        "import tensorflow as tf \n",
        "\n",
        "#get dataset\n",
        "mnist = tf.keras.datasets.mnist\n",
        "(x_train, y_train), (x_test, y_test) = mnist.load_data()"
      ]
    },
    {
      "cell_type": "code",
      "source": [
        "#normalization\n",
        "x_train = x_train/255\n",
        "x_test = x_test/255"
      ],
      "metadata": {
        "id": "lAhpFZOVAJNt"
      },
      "execution_count": null,
      "outputs": []
    },
    {
      "cell_type": "code",
      "source": [
        "#neural net\n",
        "neural_net = tf.keras.Sequential()\n",
        "neural_net.add(tf.keras.layers.Flatten(input_shape=(28, 28)))\n",
        "neural_net.add(tf.keras.layers.Dense(16, activation='relu'))\n",
        "neural_net.add(tf.keras.layers.Dense(16, activation='relu'))\n",
        "neural_net.add(tf.keras.layers.Dense(10, activation='softmax'))\n",
        "\n",
        "neural_net.summary()"
      ],
      "metadata": {
        "colab": {
          "base_uri": "https://localhost:8080/"
        },
        "id": "ui09GFl9Cd67",
        "outputId": "7aac1f56-6727-4c64-e073-3822bf99d549"
      },
      "execution_count": null,
      "outputs": [
        {
          "output_type": "stream",
          "name": "stdout",
          "text": [
            "Model: \"sequential\"\n",
            "_________________________________________________________________\n",
            " Layer (type)                Output Shape              Param #   \n",
            "=================================================================\n",
            " flatten (Flatten)           (None, 784)               0         \n",
            "                                                                 \n",
            " dense (Dense)               (None, 16)                12560     \n",
            "                                                                 \n",
            " dense_1 (Dense)             (None, 16)                272       \n",
            "                                                                 \n",
            " dense_2 (Dense)             (None, 10)                170       \n",
            "                                                                 \n",
            "=================================================================\n",
            "Total params: 13,002\n",
            "Trainable params: 13,002\n",
            "Non-trainable params: 0\n",
            "_________________________________________________________________\n"
          ]
        }
      ]
    },
    {
      "cell_type": "code",
      "source": [
        "#training\n",
        "neural_net.compile('adam', loss='categorical_crossentropy', metrics = ['accuracy'])\n",
        "\n",
        "y_train = tf.keras.utils.to_categorical(y_train, num_classes = 10)\n",
        "y_test = tf.keras.utils.to_categorical(y_test, num_classes = 10)\n",
        "\n",
        "model_history = neural_net.fit(x_train, y_train, validation_split=.2, batch_size=32, epochs=10)"
      ],
      "metadata": {
        "colab": {
          "base_uri": "https://localhost:8080/"
        },
        "id": "pAhVcsBdDW7b",
        "outputId": "45997bda-caf3-418c-d523-50d396bd8890"
      },
      "execution_count": null,
      "outputs": [
        {
          "output_type": "stream",
          "name": "stdout",
          "text": [
            "Epoch 1/10\n",
            "1500/1500 [==============================] - 4s 2ms/step - loss: 0.5089 - accuracy: 0.8540 - val_loss: 0.2819 - val_accuracy: 0.9212\n",
            "Epoch 2/10\n",
            "1500/1500 [==============================] - 4s 2ms/step - loss: 0.2551 - accuracy: 0.9264 - val_loss: 0.2185 - val_accuracy: 0.9377\n",
            "Epoch 3/10\n",
            "1500/1500 [==============================] - 3s 2ms/step - loss: 0.2155 - accuracy: 0.9371 - val_loss: 0.2044 - val_accuracy: 0.9423\n",
            "Epoch 4/10\n",
            "1500/1500 [==============================] - 3s 2ms/step - loss: 0.1911 - accuracy: 0.9453 - val_loss: 0.1893 - val_accuracy: 0.9458\n",
            "Epoch 5/10\n",
            "1500/1500 [==============================] - 3s 2ms/step - loss: 0.1742 - accuracy: 0.9491 - val_loss: 0.1823 - val_accuracy: 0.9478\n",
            "Epoch 6/10\n",
            "1500/1500 [==============================] - 3s 2ms/step - loss: 0.1625 - accuracy: 0.9527 - val_loss: 0.1707 - val_accuracy: 0.9522\n",
            "Epoch 7/10\n",
            "1500/1500 [==============================] - 3s 2ms/step - loss: 0.1528 - accuracy: 0.9543 - val_loss: 0.1723 - val_accuracy: 0.9518\n",
            "Epoch 8/10\n",
            "1500/1500 [==============================] - 3s 2ms/step - loss: 0.1453 - accuracy: 0.9571 - val_loss: 0.1736 - val_accuracy: 0.9482\n",
            "Epoch 9/10\n",
            "1500/1500 [==============================] - 3s 2ms/step - loss: 0.1373 - accuracy: 0.9591 - val_loss: 0.1704 - val_accuracy: 0.9506\n",
            "Epoch 10/10\n",
            "1500/1500 [==============================] - 3s 2ms/step - loss: 0.1321 - accuracy: 0.9603 - val_loss: 0.1657 - val_accuracy: 0.9521\n"
          ]
        }
      ]
    },
    {
      "cell_type": "code",
      "source": [
        "import matplotlib.pyplot as plt\n",
        "\n",
        "#accuracy graph\n",
        "plt.plot(model_history.history['accuracy'])\n",
        "plt.plot(model_history.history['val_accuracy'])\n",
        "plt.title('Val accuracy & Training accuracy')\n",
        "\n",
        "plt.xlabel('epochs(iterations)')\n",
        "plt.ylabel('accuracy')\n",
        "plt.show()"
      ],
      "metadata": {
        "colab": {
          "base_uri": "https://localhost:8080/",
          "height": 295
        },
        "id": "sPQTRQdLHaO1",
        "outputId": "248fcdc6-185b-4228-aeec-74ac1771729e"
      },
      "execution_count": null,
      "outputs": [
        {
          "output_type": "display_data",
          "data": {
            "text/plain": [
              "<Figure size 432x288 with 1 Axes>"
            ],
            "image/png": "[encoded data removed]"
          },
          "metadata": {
            "needs_background": "light"
          }
        }
      ]
    },
    {
      "cell_type": "code",
      "source": [
        "#loss\n",
        "plt.plot(model_history.history['loss'])\n",
        "plt.plot(model_history.history['val_loss'])\n",
        "plt.title('Val loss & Training loss')\n",
        "\n",
        "plt.xlabel('epochs(iterations)')\n",
        "plt.ylabel('loss')\n",
        "plt.show()"
      ],
      "metadata": {
        "colab": {
          "base_uri": "https://localhost:8080/",
          "height": 295
        },
        "id": "RkrcdEdZLoes",
        "outputId": "4f53aa66-7de8-4f33-94aa-02744d904227"
      },
      "execution_count": null,
      "outputs": [
        {
          "output_type": "display_data",
          "data": {
            "text/plain": [
              "<Figure size 432x288 with 1 Axes>"
            ],
            "image/png": "[encoded data removed]"
          },
          "metadata": {
            "needs_background": "light"
          }
        }
      ]
    },
    {
      "cell_type": "code",
      "source": [
        "predictions = neural_net.predict([x_test])"
      ],
      "metadata": {
        "id": "gtwlltd8MZbN"
      },
      "execution_count": null,
      "outputs": []
    },
    {
      "cell_type": "code",
      "source": [
        "import random as rand\n",
        "import numpy as np \n",
        "\n",
        "randomIndex = rand.randint(0, 10000)\n",
        "\n",
        "print(\"predicted value is: \", np.argmax(predictions[randomIndex]))"
      ],
      "metadata": {
        "colab": {
          "base_uri": "https://localhost:8080/"
        },
        "id": "JettvJorOsIp",
        "outputId": "05cf7ef6-d950-40c8-da66-54ef421bba9d"
      },
      "execution_count": null,
      "outputs": [
        {
          "output_type": "stream",
          "name": "stdout",
          "text": [
            "predicted value is:  5\n"
          ]
        }
      ]
    },
    {
      "cell_type": "code",
      "source": [
        "plt.imshow(x_test[randomIndex])\n",
        "plt.show()"
      ],
      "metadata": {
        "colab": {
          "base_uri": "https://localhost:8080/",
          "height": 265
        },
        "id": "y4mQsWl1OuGV",
        "outputId": "32432c7b-c1e0-4c02-9a02-497b8e799095"
      },
      "execution_count": null,
      "outputs": [
        {
          "output_type": "display_data",
          "data": {
            "text/plain": [
              "<Figure size 432x288 with 1 Axes>"
            ],
            "image/png": "[encoded data removed]"
          },
          "metadata": {
            "needs_background": "light"
          }
        }
      ]
    },
    {
      "cell_type": "code",
      "source": [
        "def get_indices_labeled_as(label): #gets all indices of a particular label\n",
        "    indices = []\n",
        "    for index, n in enumerate(y_test):\n",
        "      if n == label:\n",
        "        indices.append(index)\n",
        "\n",
        "    return indices"
      ],
      "metadata": {
        "id": "i5H9Qb99DLjF"
      },
      "execution_count": null,
      "outputs": []
    },
    {
      "cell_type": "code",
      "source": [
        "#number of images labeled as six\n",
        "sixes_indices = get_indices_labeled_as(6)\n",
        "\n",
        "print(\"number of sixes: \",len(sixes_indices))"
      ],
      "metadata": {
        "colab": {
          "base_uri": "https://localhost:8080/"
        },
        "id": "R0puWF3UT3Df",
        "outputId": "7c4988b1-adff-44a5-95fb-d3b656447315"
      },
      "execution_count": null,
      "outputs": [
        {
          "output_type": "stream",
          "name": "stdout",
          "text": [
            "number of sixes:  958\n"
          ]
        }
      ]
    },
    {
      "cell_type": "markdown",
      "source": [
        ""
      ],
      "metadata": {
        "id": "B7Y2n-FgVq2Z"
      }
    },
    {
      "cell_type": "code",
      "source": [
        "#among all images labeled as six how many are 0 - 9\n",
        "digit_to_count = {}\n",
        "current_digit = 0\n",
        "\n",
        "while current_digit < 10:\n",
        "  count = 0\n",
        "  for n in sixes_indices:\n",
        "    if np.argmax(predictions[n]) == current_digit:\n",
        "      count += 1\n",
        "  \n",
        "  digit_to_count[current_digit] = count\n",
        "\n",
        "  current_digit += 1\n",
        "\n",
        "print(digit_to_count)"
      ],
      "metadata": {
        "colab": {
          "base_uri": "https://localhost:8080/"
        },
        "id": "KfRcLu9O6btf",
        "outputId": "2f3d1e25-0996-417f-eda3-5502973d122f"
      },
      "execution_count": null,
      "outputs": [
        {
          "output_type": "stream",
          "name": "stdout",
          "text": [
            "{0: 11, 1: 3, 2: 5, 3: 0, 4: 4, 5: 6, 6: 924, 7: 0, 8: 5, 9: 0}\n"
          ]
        }
      ]
    }
  ]
}