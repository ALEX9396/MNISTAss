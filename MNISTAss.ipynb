{
  "nbformat": 4,
  "nbformat_minor": 0,
  "metadata": {
    "colab": {
      "name": "MNISTAss.ipynb",
      "provenance": [],
      "collapsed_sections": []
    },
    "kernelspec": {
      "name": "python3",
      "display_name": "Python 3"
    },
    "language_info": {
      "name": "python"
    }
  },
  "cells": [
    {
      "cell_type": "code",
      "execution_count": 20,
      "metadata": {
        "id": "xHe6DgPz_HB4"
      },
      "outputs": [],
      "source": [
        "import tensorflow as tf \n",
        "\n",
        "#get dataset\n",
        "mnist = tf.keras.datasets.mnist\n",
        "(x_train, y_train), (x_test, y_test) = mnist.load_data()"
      ]
    },
    {
      "cell_type": "code",
      "source": [
        "#normalization\n",
        "x_train = x_train/255\n",
        "x_test = x_test/255"
      ],
      "metadata": {
        "id": "lAhpFZOVAJNt"
      },
      "execution_count": 2,
      "outputs": []
    },
    {
      "cell_type": "code",
      "source": [
        "#neural net\n",
        "neural_net = tf.keras.Sequential()\n",
        "neural_net.add(tf.keras.layers.Flatten(input_shape=(28, 28)))\n",
        "neural_net.add(tf.keras.layers.Dense(16, activation='relu'))\n",
        "neural_net.add(tf.keras.layers.Dense(16, activation='relu'))\n",
        "neural_net.add(tf.keras.layers.Dense(10, activation='softmax'))\n",
        "\n",
        "neural_net.summary()"
      ],
      "metadata": {
        "colab": {
          "base_uri": "https://localhost:8080/"
        },
        "id": "ui09GFl9Cd67",
        "outputId": "35891ecd-24f8-4a82-9acc-56a05d1428b7"
      },
      "execution_count": 3,
      "outputs": [
        {
          "output_type": "stream",
          "name": "stdout",
          "text": [
            "Model: \"sequential\"\n",
            "_________________________________________________________________\n",
            " Layer (type)                Output Shape              Param #   \n",
            "=================================================================\n",
            " flatten (Flatten)           (None, 784)               0         \n",
            "                                                                 \n",
            " dense (Dense)               (None, 16)                12560     \n",
            "                                                                 \n",
            " dense_1 (Dense)             (None, 16)                272       \n",
            "                                                                 \n",
            " dense_2 (Dense)             (None, 10)                170       \n",
            "                                                                 \n",
            "=================================================================\n",
            "Total params: 13,002\n",
            "Trainable params: 13,002\n",
            "Non-trainable params: 0\n",
            "_________________________________________________________________\n"
          ]
        }
      ]
    },
    {
      "cell_type": "code",
      "source": [
        "#training\n",
        "neural_net.compile('adam', loss='categorical_crossentropy', metrics = ['accuracy'])\n",
        "\n",
        "y_train = tf.keras.utils.to_categorical(y_train, num_classes = 10)\n",
        "y_test = tf.keras.utils.to_categorical(y_test, num_classes = 10)\n",
        "\n",
        "model_history = neural_net.fit(x_train, y_train, validation_split=.2, batch_size=32, epochs=10)"
      ],
      "metadata": {
        "colab": {
          "base_uri": "https://localhost:8080/"
        },
        "id": "pAhVcsBdDW7b",
        "outputId": "d1702a54-fa6f-421d-c40a-bac7e710a527"
      },
      "execution_count": 4,
      "outputs": [
        {
          "output_type": "stream",
          "name": "stdout",
          "text": [
            "Epoch 1/10\n",
            "1500/1500 [==============================] - 8s 5ms/step - loss: 0.4731 - accuracy: 0.8627 - val_loss: 0.2714 - val_accuracy: 0.9212\n",
            "Epoch 2/10\n",
            "1500/1500 [==============================] - 4s 3ms/step - loss: 0.2654 - accuracy: 0.9240 - val_loss: 0.2414 - val_accuracy: 0.9302\n",
            "Epoch 3/10\n",
            "1500/1500 [==============================] - 3s 2ms/step - loss: 0.2342 - accuracy: 0.9335 - val_loss: 0.2189 - val_accuracy: 0.9373\n",
            "Epoch 4/10\n",
            "1500/1500 [==============================] - 3s 2ms/step - loss: 0.2120 - accuracy: 0.9385 - val_loss: 0.1984 - val_accuracy: 0.9431\n",
            "Epoch 5/10\n",
            "1500/1500 [==============================] - 3s 2ms/step - loss: 0.1962 - accuracy: 0.9431 - val_loss: 0.1975 - val_accuracy: 0.9440\n",
            "Epoch 6/10\n",
            "1500/1500 [==============================] - 3s 2ms/step - loss: 0.1831 - accuracy: 0.9465 - val_loss: 0.1875 - val_accuracy: 0.9468\n",
            "Epoch 7/10\n",
            "1500/1500 [==============================] - 3s 2ms/step - loss: 0.1728 - accuracy: 0.9490 - val_loss: 0.1786 - val_accuracy: 0.9498\n",
            "Epoch 8/10\n",
            "1500/1500 [==============================] - 3s 2ms/step - loss: 0.1642 - accuracy: 0.9511 - val_loss: 0.1920 - val_accuracy: 0.9467\n",
            "Epoch 9/10\n",
            "1500/1500 [==============================] - 3s 2ms/step - loss: 0.1564 - accuracy: 0.9537 - val_loss: 0.1806 - val_accuracy: 0.9481\n",
            "Epoch 10/10\n",
            "1500/1500 [==============================] - 3s 2ms/step - loss: 0.1490 - accuracy: 0.9557 - val_loss: 0.1775 - val_accuracy: 0.9489\n"
          ]
        }
      ]
    },
    {
      "cell_type": "code",
      "source": [
        "import matplotlib.pyplot as plt\n",
        "\n",
        "#accuracy graph\n",
        "plt.plot(model_history.history['accuracy'])\n",
        "plt.plot(model_history.history['val_accuracy'])\n",
        "plt.title('Val accuracy & Training accuracy')\n",
        "\n",
        "plt.xlabel('epochs(iterations)')\n",
        "plt.ylabel('accuracy')\n",
        "plt.show()"
      ],
      "metadata": {
        "colab": {
          "base_uri": "https://localhost:8080/",
          "height": 295
        },
        "id": "sPQTRQdLHaO1",
        "outputId": "94d395ca-d7cd-4912-bcc1-b760b9d4bfd6"
      },
      "execution_count": 5,
      "outputs": [
        {
          "output_type": "display_data",
          "data": {
            "text/plain": [
              "<Figure size 432x288 with 1 Axes>"
            ],
            "image/png": "[encoded data removed]"
          },
          "metadata": {
            "needs_background": "light"
          }
        }
      ]
    },
    {
      "cell_type": "code",
      "source": [
        "#loss\n",
        "plt.plot(model_history.history['loss'])\n",
        "plt.plot(model_history.history['val_loss'])\n",
        "plt.title('Val loss & Training loss')\n",
        "\n",
        "plt.xlabel('epochs(iterations)')\n",
        "plt.ylabel('loss')\n",
        "plt.show()"
      ],
      "metadata": {
        "colab": {
          "base_uri": "https://localhost:8080/",
          "height": 295
        },
        "id": "RkrcdEdZLoes",
        "outputId": "b8d25e61-0838-4633-de01-f4ce3796fc45"
      },
      "execution_count": 6,
      "outputs": [
        {
          "output_type": "display_data",
          "data": {
            "text/plain": [
              "<Figure size 432x288 with 1 Axes>"
            ],
            "image/png": "[encoded data removed]"
          },
          "metadata": {
            "needs_background": "light"
          }
        }
      ]
    },
    {
      "cell_type": "code",
      "source": [
        "predictions = neural_net.predict([x_test])"
      ],
      "metadata": {
        "id": "gtwlltd8MZbN"
      },
      "execution_count": 7,
      "outputs": []
    },
    {
      "cell_type": "code",
      "source": [
        "import random as rand\n",
        "import numpy as np \n",
        "\n",
        "randomIndex = rand.randint(0, 10000)\n",
        "\n",
        "print(\"predicted value is: \", np.argmax(predictions[randomIndex]))"
      ],
      "metadata": {
        "colab": {
          "base_uri": "https://localhost:8080/"
        },
        "id": "JettvJorOsIp",
        "outputId": "22b8bf44-f222-420c-d0a7-b3da0ef604fb"
      },
      "execution_count": 8,
      "outputs": [
        {
          "output_type": "stream",
          "name": "stdout",
          "text": [
            "predicted value is:  6\n"
          ]
        }
      ]
    },
    {
      "cell_type": "code",
      "source": [
        "plt.imshow(x_test[randomIndex])\n",
        "plt.show()"
      ],
      "metadata": {
        "colab": {
          "base_uri": "https://localhost:8080/",
          "height": 265
        },
        "id": "y4mQsWl1OuGV",
        "outputId": "0a66eb13-2654-40eb-e3f0-8d29f1c3d72c"
      },
      "execution_count": 9,
      "outputs": [
        {
          "output_type": "display_data",
          "data": {
            "text/plain": [
              "<Figure size 432x288 with 1 Axes>"
            ],
            "image/png": "[encoded data removed]"
          },
          "metadata": {
            "needs_background": "light"
          }
        }
      ]
    },
    {
      "cell_type": "code",
      "source": [
        "def get_indices_labeled_as(label): #gets all indices of a particular label\n",
        "    indices = []\n",
        "    for index, n in enumerate(y_test):\n",
        "      if n == label:\n",
        "        indices.append(index)\n",
        "\n",
        "    return indices"
      ],
      "metadata": {
        "id": "i5H9Qb99DLjF"
      },
      "execution_count": 10,
      "outputs": []
    },
    {
      "cell_type": "code",
      "source": [
        "#number of images labeled as six\n",
        "sixes_indices = get_indices_labeled_as(6)\n",
        "\n",
        "print(\"number of sixes: \",len(sixes_indices))"
      ],
      "metadata": {
        "colab": {
          "base_uri": "https://localhost:8080/"
        },
        "id": "R0puWF3UT3Df",
        "outputId": "218f9465-822b-4322-84e2-e2a4692c19da"
      },
      "execution_count": 13,
      "outputs": [
        {
          "output_type": "stream",
          "name": "stdout",
          "text": [
            "number of sixes:  958\n"
          ]
        }
      ]
    },
    {
      "cell_type": "code",
      "source": [
        "#among all images labeled as six how many are 0 - 9\n",
        "digit_to_count = {}\n",
        "current_digit = 0\n",
        "\n",
        "while current_digit < 10:\n",
        "  count = 0\n",
        "  for n in sixes_indices:\n",
        "    if np.argmax(predictions[n]) == current_digit:\n",
        "      count += 1\n",
        "  \n",
        "  digit_to_count[current_digit] = count\n",
        "\n",
        "  current_digit += 1\n",
        "\n",
        "print(digit_to_count)"
      ],
      "metadata": {
        "colab": {
          "base_uri": "https://localhost:8080/"
        },
        "id": "KfRcLu9O6btf",
        "outputId": "678a1621-7766-462b-989c-de4d49fe2d6a"
      },
      "execution_count": 14,
      "outputs": [
        {
          "output_type": "stream",
          "name": "stdout",
          "text": [
            "{0: 7, 1: 3, 2: 1, 3: 0, 4: 5, 5: 6, 6: 933, 7: 1, 8: 2, 9: 0}\n"
          ]
        }
      ]
    },
    {
      "cell_type": "code",
      "source": [
        "digits = digit_to_count.keys()\n",
        "digit_counts = digit_to_count.values()\n",
        "\n",
        "plt.bar(digits, digit_counts)\n",
        "plt.xlabel(\"digits (0-9)\")\n",
        "plt.ylabel(\"number of classified as six\")\n",
        "plt.show()"
      ],
      "metadata": {
        "colab": {
          "base_uri": "https://localhost:8080/",
          "height": 279
        },
        "id": "C1GLCoWr-uEp",
        "outputId": "ef83f563-69c1-4457-95a0-8705c9738104"
      },
      "execution_count": 15,
      "outputs": [
        {
          "output_type": "display_data",
          "data": {
            "text/plain": [
              "<Figure size 432x288 with 1 Axes>"
            ],
            "image/png": "[encoded data removed]"
          },
          "metadata": {
            "needs_background": "light"
          }
        }
      ]
    },
    {
      "cell_type": "code",
      "source": [
        "#among all images labeled as 9 how many are 0 - 9\n",
        "nines_indices = get_indices_labeled_as(9)\n",
        "digit_to_count = {}\n",
        "current_digit = 0\n",
        "\n",
        "while current_digit < 10:\n",
        "  count = 0\n",
        "  for n in nines_indices:\n",
        "    if np.argmax(predictions[n]) == current_digit:\n",
        "      count += 1\n",
        "  \n",
        "  digit_to_count[current_digit] = count\n",
        "\n",
        "  current_digit += 1\n",
        "\n",
        "print(digit_to_count)"
      ],
      "metadata": {
        "colab": {
          "base_uri": "https://localhost:8080/"
        },
        "id": "mukdqx4PAoGc",
        "outputId": "425b02d7-f3e1-440d-b7dc-c36e311a2530"
      },
      "execution_count": 16,
      "outputs": [
        {
          "output_type": "stream",
          "name": "stdout",
          "text": [
            "{0: 8, 1: 5, 2: 0, 3: 13, 4: 17, 5: 3, 6: 1, 7: 17, 8: 4, 9: 941}\n"
          ]
        }
      ]
    },
    {
      "cell_type": "code",
      "source": [
        "digits = digit_to_count.keys()\n",
        "digit_counts = digit_to_count.values()\n",
        "\n",
        "plt.bar(digits, digit_counts)\n",
        "plt.xlabel(\"digits (0-9)\")\n",
        "plt.ylabel(\"number of classified as nine\")\n",
        "plt.show()"
      ],
      "metadata": {
        "colab": {
          "base_uri": "https://localhost:8080/",
          "height": 279
        },
        "id": "CP1sBsfxLgXU",
        "outputId": "7bd26ca2-c296-4978-dda2-912cfa6bc13e"
      },
      "execution_count": 17,
      "outputs": [
        {
          "output_type": "display_data",
          "data": {
            "text/plain": [
              "<Figure size 432x288 with 1 Axes>"
            ],
            "image/png": "[encoded data removed]"
          },
          "metadata": {
            "needs_background": "light"
          }
        }
      ]
    },
    {
      "cell_type": "code",
      "source": [
        "#among all images labeled as 4 how many are 0 - 9\n",
        "nines_indices = get_indices_labeled_as(4)\n",
        "digit_to_count = {}\n",
        "current_digit = 0\n",
        "\n",
        "while current_digit < 10:\n",
        "  count = 0\n",
        "  for n in nines_indices:\n",
        "    if np.argmax(predictions[n]) == current_digit:\n",
        "      count += 1\n",
        "  \n",
        "  digit_to_count[current_digit] = count\n",
        "\n",
        "  current_digit += 1\n",
        "\n",
        "print(digit_to_count)"
      ],
      "metadata": {
        "colab": {
          "base_uri": "https://localhost:8080/"
        },
        "id": "bUxBu586LrgK",
        "outputId": "ef86326d-1d79-4176-8784-24943bfa087d"
      },
      "execution_count": 18,
      "outputs": [
        {
          "output_type": "stream",
          "name": "stdout",
          "text": [
            "{0: 0, 1: 0, 2: 4, 3: 1, 4: 931, 5: 0, 6: 8, 7: 6, 8: 4, 9: 28}\n"
          ]
        }
      ]
    },
    {
      "cell_type": "code",
      "source": [
        "digits = digit_to_count.keys()\n",
        "digit_counts = digit_to_count.values()\n",
        "\n",
        "plt.bar(digits, digit_counts)\n",
        "plt.xlabel(\"digits (0-9)\")\n",
        "plt.ylabel(\"number of classified as four\")\n",
        "plt.show()"
      ],
      "metadata": {
        "colab": {
          "base_uri": "https://localhost:8080/",
          "height": 279
        },
        "id": "xXR_T30RLw_Z",
        "outputId": "13598952-6cd8-49a6-eced-63bf14286728"
      },
      "execution_count": 19,
      "outputs": [
        {
          "output_type": "display_data",
          "data": {
            "text/plain": [
              "<Figure size 432x288 with 1 Axes>"
            ],
            "image/png": "[encoded data removed]"
          },
          "metadata": {
            "needs_background": "light"
          }
        }
      ]
    }
  ]
}