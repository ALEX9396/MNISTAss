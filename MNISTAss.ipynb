{
 "cells": [
  {
   "cell_type": "code",
   "execution_count": null,
   "metadata": {
    "id": "xHe6DgPz_HB4"
   },
   "outputs": [],
   "source": [
    "import tensorflow as tf \n",
    "\n",
    "#get dataset\n",
    "mnist = tf.keras.datasets.mnist\n",
    "(x_train, y_train), (x_test, y_test) = mnist.load_data()"
   ]
  },
  {
   "cell_type": "code",
   "execution_count": 2,
   "metadata": {
    "id": "lAhpFZOVAJNt"
   },
   "outputs": [],
   "source": [
    "#normalization\n",
    "x_train = x_train/255\n",
    "x_test = x_test/255"
   ]
  },
  {
   "cell_type": "code",
   "execution_count": null,
   "metadata": {
    "colab": {
     "base_uri": "https://localhost:8080/"
    },
    "id": "ui09GFl9Cd67",
    "outputId": "7aac1f56-6727-4c64-e073-3822bf99d549"
   },
   "outputs": [],
   "source": [
    "#neural net\n",
    "neural_net = tf.keras.Sequential()\n",
    "neural_net.add(tf.keras.layers.Flatten(input_shape=(28, 28)))\n",
    "neural_net.add(tf.keras.layers.Dense(16, activation='relu'))\n",
    "neural_net.add(tf.keras.layers.Dense(16, activation='relu'))\n",
    "neural_net.add(tf.keras.layers.Dense(10, activation='softmax'))\n",
    "\n",
    "neural_net.summary()"
   ]
  },
  {
   "cell_type": "code",
   "execution_count": 4,
   "metadata": {
    "colab": {
     "base_uri": "https://localhost:8080/"
    },
    "id": "pAhVcsBdDW7b",
    "outputId": "45997bda-caf3-418c-d523-50d396bd8890"
   },
   "outputs": [
    {
     "name": "stderr",
     "output_type": "stream",
     "text": [
      "2022-05-17 23:20:41.340923: W tensorflow/core/framework/cpu_allocator_impl.cc:82] Allocation of 150528000 exceeds 10% of free system memory.\n"
     ]
    },
    {
     "name": "stdout",
     "output_type": "stream",
     "text": [
      "Epoch 1/10\n",
      "1473/1500 [============================>.] - ETA: 0s - loss: 0.5423 - accuracy: 0.8403"
     ]
    },
    {
     "name": "stderr",
     "output_type": "stream",
     "text": [
      "2022-05-17 23:20:54.482077: W tensorflow/core/framework/cpu_allocator_impl.cc:82] Allocation of 37632000 exceeds 10% of free system memory.\n"
     ]
    },
    {
     "name": "stdout",
     "output_type": "stream",
     "text": [
      "1500/1500 [==============================] - 7s 2ms/step - loss: 0.5372 - accuracy: 0.8418 - val_loss: 0.2828 - val_accuracy: 0.9168\n",
      "Epoch 2/10\n",
      "1500/1500 [==============================] - 3s 2ms/step - loss: 0.2578 - accuracy: 0.9265 - val_loss: 0.2268 - val_accuracy: 0.9350\n",
      "Epoch 3/10\n",
      "1500/1500 [==============================] - 3s 2ms/step - loss: 0.2133 - accuracy: 0.9385 - val_loss: 0.1926 - val_accuracy: 0.9443\n",
      "Epoch 4/10\n",
      "1500/1500 [==============================] - 3s 2ms/step - loss: 0.1915 - accuracy: 0.9446 - val_loss: 0.1813 - val_accuracy: 0.9492\n",
      "Epoch 5/10\n",
      "1500/1500 [==============================] - 3s 2ms/step - loss: 0.1738 - accuracy: 0.9487 - val_loss: 0.1747 - val_accuracy: 0.9507\n",
      "Epoch 6/10\n",
      "1500/1500 [==============================] - 4s 2ms/step - loss: 0.1602 - accuracy: 0.9533 - val_loss: 0.1689 - val_accuracy: 0.9509\n",
      "Epoch 7/10\n",
      "1500/1500 [==============================] - 3s 2ms/step - loss: 0.1497 - accuracy: 0.9559 - val_loss: 0.1650 - val_accuracy: 0.9536\n",
      "Epoch 8/10\n",
      "1500/1500 [==============================] - 3s 2ms/step - loss: 0.1406 - accuracy: 0.9584 - val_loss: 0.1565 - val_accuracy: 0.9562\n",
      "Epoch 9/10\n",
      "1500/1500 [==============================] - 3s 2ms/step - loss: 0.1333 - accuracy: 0.9602 - val_loss: 0.1542 - val_accuracy: 0.9561\n",
      "Epoch 10/10\n",
      "1500/1500 [==============================] - 3s 2ms/step - loss: 0.1256 - accuracy: 0.9629 - val_loss: 0.1530 - val_accuracy: 0.9567\n"
     ]
    }
   ],
   "source": [
    "#training\n",
    "neural_net.compile('adam', loss='categorical_crossentropy', metrics = ['accuracy'])\n",
    "\n",
    "y_train = tf.keras.utils.to_categorical(y_train, num_classes = 10)\n",
    "y_test = tf.keras.utils.to_categorical(y_test, num_classes = 10)\n",
    "\n",
    "model_history = neural_net.fit(x_train, y_train, validation_split=.2, batch_size=32, epochs=10)"
   ]
  },
  {
   "cell_type": "code",
   "execution_count": 5,
   "metadata": {
    "colab": {
     "base_uri": "https://localhost:8080/",
     "height": 295
    },
    "id": "sPQTRQdLHaO1",
    "outputId": "248fcdc6-185b-4228-aeec-74ac1771729e"
   },
   "outputs": [
    {
     "data": {
      "image/png": "[encoded data removed]",
      "text/plain": [
       "<Figure size 432x288 with 1 Axes>"
      ]
     },
     "metadata": {
      "needs_background": "light"
     },
     "output_type": "display_data"
    }
   ],
   "source": [
    "import matplotlib.pyplot as plt\n",
    "\n",
    "#accuracy graph\n",
    "plt.plot(model_history.history['accuracy'])\n",
    "plt.plot(model_history.history['val_accuracy'])\n",
    "plt.title('Val accuracy & Training accuracy')\n",
    "\n",
    "plt.xlabel('epochs(iterations)')\n",
    "plt.ylabel('accuracy')\n",
    "plt.show()"
   ]
  },
  {
   "cell_type": "code",
   "execution_count": 6,
   "metadata": {
    "colab": {
     "base_uri": "https://localhost:8080/",
     "height": 295
    },
    "id": "RkrcdEdZLoes",
    "outputId": "4f53aa66-7de8-4f33-94aa-02744d904227"
   },
   "outputs": [
    {
     "data": {
      "image/png": "[encoded data removed]",
      "text/plain": [
       "<Figure size 432x288 with 1 Axes>"
      ]
     },
     "metadata": {
      "needs_background": "light"
     },
     "output_type": "display_data"
    }
   ],
   "source": [
    "#loss\n",
    "plt.plot(model_history.history['loss'])\n",
    "plt.plot(model_history.history['val_loss'])\n",
    "plt.title('Val loss & Training loss')\n",
    "\n",
    "plt.xlabel('epochs(iterations)')\n",
    "plt.ylabel('loss')\n",
    "plt.show()"
   ]
  },
  {
   "cell_type": "code",
   "execution_count": null,
   "metadata": {
    "id": "gtwlltd8MZbN"
   },
   "outputs": [],
   "source": [
    "predictions = neural_net.predict([x_test])"
   ]
  },
  {
   "cell_type": "code",
   "execution_count": 8,
   "metadata": {
    "colab": {
     "base_uri": "https://localhost:8080/"
    },
    "id": "JettvJorOsIp",
    "outputId": "05cf7ef6-d950-40c8-da66-54ef421bba9d"
   },
   "outputs": [
    {
     "name": "stdout",
     "output_type": "stream",
     "text": [
      "predicted value is:  8\n"
     ]
    }
   ],
   "source": [
    "import random as rand\n",
    "import numpy as np \n",
    "\n",
    "randomIndex = rand.randint(0, 10000)\n",
    "\n",
    "print(\"predicted value is: \", np.argmax(predictions[randomIndex]))"
   ]
  },
  {
   "cell_type": "code",
   "execution_count": 9,
   "metadata": {
    "colab": {
     "base_uri": "https://localhost:8080/",
     "height": 265
    },
    "id": "y4mQsWl1OuGV",
    "outputId": "32432c7b-c1e0-4c02-9a02-497b8e799095"
   },
   "outputs": [
    {
     "data": {
      "image/png": "[encoded data removed]",
      "text/plain": [
       "<Figure size 432x288 with 1 Axes>"
      ]
     },
     "metadata": {
      "needs_background": "light"
     },
     "output_type": "display_data"
    }
   ],
   "source": [
    "plt.imshow(x_test[randomIndex])\n",
    "plt.show()"
   ]
  },
  {
   "cell_type": "code",
   "execution_count": 10,
   "metadata": {
    "id": "i5H9Qb99DLjF"
   },
   "outputs": [
    {
     "name": "stdout",
     "output_type": "stream",
     "text": [
      "11\n",
      "21\n",
      "22\n",
      "50\n",
      "54\n",
      "66\n",
      "81\n",
      "88\n",
      "91\n",
      "98\n"
     ]
    }
   ],
   "source": [
    "#images labeled as 6\n",
    "six_indices = []\n",
    "\n",
    "counter = 0\n",
    "\n",
    "for i in range(x_test.shape[0]):\n",
    "    if y_test[i][6] == 1:\n",
    "        print(i)\n",
    "        six_indices.append(i)\n",
    "        counter +=1\n",
    "    if counter ==10:\n",
    "        break;"
   ]
  },
  {
   "cell_type": "code",
   "execution_count": 11,
   "metadata": {
    "colab": {
     "base_uri": "https://localhost:8080/"
    },
    "id": "R0puWF3UT3Df",
    "outputId": "7c4988b1-adff-44a5-95fb-d3b656447315"
   },
   "outputs": [
    {
     "name": "stdout",
     "output_type": "stream",
     "text": [
      "7\n",
      "9\n",
      "12\n",
      "16\n",
      "20\n",
      "58\n",
      "62\n",
      "73\n",
      "78\n",
      "92\n"
     ]
    }
   ],
   "source": [
    "#images labeled as 9\n",
    "nine_indices = []\n",
    "\n",
    "counter = 0\n",
    "\n",
    "for i in range(x_test.shape[0]):\n",
    "    if y_test[i][9] == 1:\n",
    "        print(i)\n",
    "        nine_indices.append(i)\n",
    "        counter +=1\n",
    "    if counter ==10:\n",
    "        break;"
   ]
  },
  {
   "cell_type": "code",
   "execution_count": 12,
   "metadata": {},
   "outputs": [
    {
     "name": "stdout",
     "output_type": "stream",
     "text": [
      "4\n",
      "6\n",
      "19\n",
      "24\n",
      "27\n",
      "33\n",
      "42\n",
      "48\n",
      "49\n",
      "56\n"
     ]
    }
   ],
   "source": [
    "# Images labeled as 4\n",
    "four_indices = []\n",
    "\n",
    "counter = 0\n",
    "\n",
    "for i in range(x_test.shape[0]):\n",
    "    if y_test[i][4] == 1:\n",
    "        print(i)\n",
    "        four_indices.append(i)\n",
    "        counter +=1\n",
    "    if counter ==10:\n",
    "        break;"
   ]
  },
  {
   "cell_type": "code",
   "execution_count": 13,
   "metadata": {},
   "outputs": [
    {
     "data": {
      "text/plain": [
       "10"
      ]
     },
     "execution_count": 13,
     "metadata": {},
     "output_type": "execute_result"
    }
   ],
   "source": [
    "len(six_indices)"
   ]
  },
  {
   "cell_type": "code",
   "execution_count": 14,
   "metadata": {},
   "outputs": [
    {
     "data": {
      "text/plain": [
       "10"
      ]
     },
     "execution_count": 14,
     "metadata": {},
     "output_type": "execute_result"
    }
   ],
   "source": [
    "len(four_indices)"
   ]
  },
  {
   "cell_type": "code",
   "execution_count": 15,
   "metadata": {},
   "outputs": [
    {
     "data": {
      "text/plain": [
       "10"
      ]
     },
     "execution_count": 15,
     "metadata": {},
     "output_type": "execute_result"
    }
   ],
   "source": [
    "len(nine_indices)"
   ]
  },
  {
   "cell_type": "code",
   "execution_count": 16,
   "metadata": {
    "colab": {
     "base_uri": "https://localhost:8080/"
    },
    "id": "KfRcLu9O6btf",
    "outputId": "2f3d1e25-0996-417f-eda3-5502973d122f"
   },
   "outputs": [
    {
     "name": "stdout",
     "output_type": "stream",
     "text": [
      "{0: 0, 1: 0, 2: 0, 3: 0, 4: 10, 5: 0, 6: 0, 7: 0, 8: 0, 9: 0}\n"
     ]
    }
   ],
   "source": [
    "# Find 0 - 9 digits among all labeled as four\n",
    "digit_to_count = {}\n",
    "current_digit = 0\n",
    "\n",
    "while current_digit < 10:\n",
    "    count = 0\n",
    "    for n in four_indices:\n",
    "        if np.argmax(predictions[n]) == current_digit:\n",
    "            count += 1\n",
    "\n",
    "    digit_to_count[current_digit] = count\n",
    "    \n",
    "    current_digit += 1\n",
    "\n",
    "print(digit_to_count)"
   ]
  },
  {
   "cell_type": "code",
   "execution_count": 17,
   "metadata": {},
   "outputs": [
    {
     "data": {
      "image/png": "[encoded data removed]",
      "text/plain": [
       "<Figure size 432x288 with 1 Axes>"
      ]
     },
     "metadata": {
      "needs_background": "light"
     },
     "output_type": "display_data"
    }
   ],
   "source": [
    "# Plot graph for predicting 4\n",
    "plt.title(\"Bar graph for prediction accuracy of digit 4 compared to other numbers\")\n",
    "plt.ylabel('Percentage')\n",
    "plt.xlabel('Digits')\n",
    "\n",
    "for i in digit_to_count:\n",
    "    plt.bar(i, digit_to_count[i]/len(four_indices), width=1.0)"
   ]
  },
  {
   "cell_type": "code",
   "execution_count": 18,
   "metadata": {},
   "outputs": [
    {
     "name": "stdout",
     "output_type": "stream",
     "text": [
      "{0: 0, 1: 0, 2: 0, 3: 0, 4: 0, 5: 0, 6: 10, 7: 0, 8: 0, 9: 0}\n"
     ]
    }
   ],
   "source": [
    "# Find 0 - 9 digits among all labeled as six\n",
    "digit_to_count = {}\n",
    "current_digit = 0\n",
    "\n",
    "while current_digit < 10:\n",
    "    count = 0\n",
    "    for n in six_indices:\n",
    "        if np.argmax(predictions[n]) == current_digit:\n",
    "            count += 1\n",
    "\n",
    "    digit_to_count[current_digit] = count\n",
    "    \n",
    "    current_digit += 1\n",
    "\n",
    "print(digit_to_count)"
   ]
  },
  {
   "cell_type": "code",
   "execution_count": 19,
   "metadata": {},
   "outputs": [
    {
     "data": {
      "image/png": "[encoded data removed]",
      "text/plain": [
       "<Figure size 432x288 with 1 Axes>"
      ]
     },
     "metadata": {
      "needs_background": "light"
     },
     "output_type": "display_data"
    }
   ],
   "source": [
    "# Plot graph for predicting 6\n",
    "plt.title(\"Bar graph for prediction accuracy of digit 6 compared to other numbers\")\n",
    "plt.ylabel('Percentage')\n",
    "plt.xlabel('Digits')\n",
    "\n",
    "for i in digit_to_count:\n",
    "    plt.bar(i, digit_to_count[i]/len(six_indices), width=1.0)"
   ]
  },
  {
   "cell_type": "code",
   "execution_count": 20,
   "metadata": {},
   "outputs": [
    {
     "name": "stdout",
     "output_type": "stream",
     "text": [
      "{0: 0, 1: 0, 2: 0, 3: 0, 4: 0, 5: 0, 6: 0, 7: 0, 8: 0, 9: 10}\n"
     ]
    }
   ],
   "source": [
    "# Find 0 - 9 digits among all labeled as nine\n",
    "digit_to_count = {}\n",
    "current_digit = 0\n",
    "\n",
    "while current_digit < 10:\n",
    "    count = 0\n",
    "    for n in nine_indices:\n",
    "        if np.argmax(predictions[n]) == current_digit:\n",
    "            count += 1\n",
    "\n",
    "    digit_to_count[current_digit] = count\n",
    "    \n",
    "    current_digit += 1\n",
    "\n",
    "print(digit_to_count)"
   ]
  },
  {
   "cell_type": "code",
   "execution_count": 21,
   "metadata": {},
   "outputs": [
    {
     "data": {
      "image/png": "[encoded data removed]",
      "text/plain": [
       "<Figure size 432x288 with 1 Axes>"
      ]
     },
     "metadata": {
      "needs_background": "light"
     },
     "output_type": "display_data"
    }
   ],
   "source": [
    "# Plot graph for predicting 9\n",
    "plt.title(\"Bar graph for prediction accuracy of digit 9 compared to other numbers\")\n",
    "plt.ylabel('Percentage')\n",
    "plt.xlabel('Digits')\n",
    "\n",
    "for i in digit_to_count:\n",
    "    plt.bar(i, digit_to_count[i]/len(nine_indices), width=1.0)"
   ]
  },
  {
   "cell_type": "code",
   "execution_count": null,
   "metadata": {},
   "outputs": [],
   "source": []
  }
 ],
 "metadata": {
  "colab": {
   "collapsed_sections": [],
   "name": "MNISTAss.ipynb",
   "provenance": []
  },
  "kernelspec": {
   "display_name": "Python 3 (ipykernel)",
   "language": "python",
   "name": "python3"
  },
  "language_info": {
   "codemirror_mode": {
    "name": "ipython",
    "version": 3
   },
   "file_extension": ".py",
   "mimetype": "text/x-python",
   "name": "python",
   "nbconvert_exporter": "python",
   "pygments_lexer": "ipython3",
   "version": "3.9.2"
  }
 },
 "nbformat": 4,
 "nbformat_minor": 4
}
