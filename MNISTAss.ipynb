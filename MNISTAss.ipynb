{
 "cells": [
  {
   "cell_type": "code",
   "execution_count": 1,
   "metadata": {
    "id": "xHe6DgPz_HB4"
   },
   "outputs": [
    {
     "name": "stderr",
     "output_type": "stream",
     "text": [
      "2022-05-17 22:14:55.238932: W tensorflow/stream_executor/platform/default/dso_loader.cc:64] Could not load dynamic library 'libcudart.so.11.0'; dlerror: libcudart.so.11.0: cannot open shared object file: No such file or directory\n",
      "2022-05-17 22:14:55.238963: I tensorflow/stream_executor/cuda/cudart_stub.cc:29] Ignore above cudart dlerror if you do not have a GPU set up on your machine.\n"
     ]
    }
   ],
   "source": [
    "import tensorflow as tf \n",
    "\n",
    "#get dataset\n",
    "mnist = tf.keras.datasets.mnist\n",
    "(x_train, y_train), (x_test, y_test) = mnist.load_data()"
   ]
  },
  {
   "cell_type": "code",
   "execution_count": 2,
   "metadata": {
    "id": "lAhpFZOVAJNt"
   },
   "outputs": [],
   "source": [
    "#normalization\n",
    "x_train = x_train/255\n",
    "x_test = x_test/255"
   ]
  },
  {
   "cell_type": "code",
   "execution_count": 3,
   "metadata": {
    "colab": {
     "base_uri": "https://localhost:8080/"
    },
    "id": "ui09GFl9Cd67",
    "outputId": "7aac1f56-6727-4c64-e073-3822bf99d549"
   },
   "outputs": [
    {
     "name": "stderr",
     "output_type": "stream",
     "text": [
      "2022-05-17 22:15:28.927817: W tensorflow/stream_executor/platform/default/dso_loader.cc:64] Could not load dynamic library 'libcuda.so.1'; dlerror: libcuda.so.1: cannot open shared object file: No such file or directory\n",
      "2022-05-17 22:15:28.927861: W tensorflow/stream_executor/cuda/cuda_driver.cc:269] failed call to cuInit: UNKNOWN ERROR (303)\n",
      "2022-05-17 22:15:28.927891: I tensorflow/stream_executor/cuda/cuda_diagnostics.cc:156] kernel driver does not appear to be running on this host (vo): /proc/driver/nvidia/version does not exist\n",
      "2022-05-17 22:15:28.954405: I tensorflow/core/platform/cpu_feature_guard.cc:151] This TensorFlow binary is optimized with oneAPI Deep Neural Network Library (oneDNN) to use the following CPU instructions in performance-critical operations:  AVX2 FMA\n",
      "To enable them in other operations, rebuild TensorFlow with the appropriate compiler flags.\n"
     ]
    },
    {
     "name": "stdout",
     "output_type": "stream",
     "text": [
      "Model: \"sequential\"\n",
      "_________________________________________________________________\n",
      " Layer (type)                Output Shape              Param #   \n",
      "=================================================================\n",
      " flatten (Flatten)           (None, 784)               0         \n",
      "                                                                 \n",
      " dense (Dense)               (None, 16)                12560     \n",
      "                                                                 \n",
      " dense_1 (Dense)             (None, 16)                272       \n",
      "                                                                 \n",
      " dense_2 (Dense)             (None, 10)                170       \n",
      "                                                                 \n",
      "=================================================================\n",
      "Total params: 13,002\n",
      "Trainable params: 13,002\n",
      "Non-trainable params: 0\n",
      "_________________________________________________________________\n"
     ]
    }
   ],
   "source": [
    "#neural net\n",
    "neural_net = tf.keras.Sequential()\n",
    "neural_net.add(tf.keras.layers.Flatten(input_shape=(28, 28)))\n",
    "neural_net.add(tf.keras.layers.Dense(16, activation='relu'))\n",
    "neural_net.add(tf.keras.layers.Dense(16, activation='relu'))\n",
    "neural_net.add(tf.keras.layers.Dense(10, activation='softmax'))\n",
    "\n",
    "neural_net.summary()"
   ]
  },
  {
   "cell_type": "code",
   "execution_count": 4,
   "metadata": {
    "colab": {
     "base_uri": "https://localhost:8080/"
    },
    "id": "pAhVcsBdDW7b",
    "outputId": "45997bda-caf3-418c-d523-50d396bd8890"
   },
   "outputs": [
    {
     "name": "stderr",
     "output_type": "stream",
     "text": [
      "2022-05-17 22:15:29.757429: W tensorflow/core/framework/cpu_allocator_impl.cc:82] Allocation of 150528000 exceeds 10% of free system memory.\n"
     ]
    },
    {
     "name": "stdout",
     "output_type": "stream",
     "text": [
      "Epoch 1/10\n",
      "1484/1500 [============================>.] - ETA: 0s - loss: 0.4941 - accuracy: 0.8566"
     ]
    },
    {
     "name": "stderr",
     "output_type": "stream",
     "text": [
      "2022-05-17 22:15:44.345571: W tensorflow/core/framework/cpu_allocator_impl.cc:82] Allocation of 37632000 exceeds 10% of free system memory.\n"
     ]
    },
    {
     "name": "stdout",
     "output_type": "stream",
     "text": [
      "1500/1500 [==============================] - 7s 3ms/step - loss: 0.4919 - accuracy: 0.8572 - val_loss: 0.2544 - val_accuracy: 0.9282\n",
      "Epoch 2/10\n",
      "1500/1500 [==============================] - 3s 2ms/step - loss: 0.2440 - accuracy: 0.9295 - val_loss: 0.2047 - val_accuracy: 0.9438\n",
      "Epoch 3/10\n",
      "1500/1500 [==============================] - 3s 2ms/step - loss: 0.2040 - accuracy: 0.9408 - val_loss: 0.1903 - val_accuracy: 0.9463\n",
      "Epoch 4/10\n",
      "1500/1500 [==============================] - 3s 2ms/step - loss: 0.1827 - accuracy: 0.9468 - val_loss: 0.1784 - val_accuracy: 0.9500\n",
      "Epoch 5/10\n",
      "1500/1500 [==============================] - 3s 2ms/step - loss: 0.1668 - accuracy: 0.9505 - val_loss: 0.1674 - val_accuracy: 0.9523\n",
      "Epoch 6/10\n",
      "1500/1500 [==============================] - 3s 2ms/step - loss: 0.1560 - accuracy: 0.9539 - val_loss: 0.1678 - val_accuracy: 0.9528\n",
      "Epoch 7/10\n",
      "1500/1500 [==============================] - 3s 2ms/step - loss: 0.1471 - accuracy: 0.9563 - val_loss: 0.1644 - val_accuracy: 0.9544\n",
      "Epoch 8/10\n",
      "1500/1500 [==============================] - 3s 2ms/step - loss: 0.1380 - accuracy: 0.9586 - val_loss: 0.1692 - val_accuracy: 0.9529\n",
      "Epoch 9/10\n",
      "1500/1500 [==============================] - 3s 2ms/step - loss: 0.1319 - accuracy: 0.9610 - val_loss: 0.1657 - val_accuracy: 0.9540\n",
      "Epoch 10/10\n",
      "1500/1500 [==============================] - 3s 2ms/step - loss: 0.1255 - accuracy: 0.9626 - val_loss: 0.1661 - val_accuracy: 0.9529\n"
     ]
    }
   ],
   "source": [
    "#training\n",
    "neural_net.compile('adam', loss='categorical_crossentropy', metrics = ['accuracy'])\n",
    "\n",
    "y_train = tf.keras.utils.to_categorical(y_train, num_classes = 10)\n",
    "y_test = tf.keras.utils.to_categorical(y_test, num_classes = 10)\n",
    "\n",
    "model_history = neural_net.fit(x_train, y_train, validation_split=.2, batch_size=32, epochs=10)"
   ]
  },
  {
   "cell_type": "code",
   "execution_count": 5,
   "metadata": {
    "colab": {
     "base_uri": "https://localhost:8080/",
     "height": 295
    },
    "id": "sPQTRQdLHaO1",
    "outputId": "248fcdc6-185b-4228-aeec-74ac1771729e"
   },
   "outputs": [
    {
     "data": {
      "image/png": "[encoded data removed]",
      "text/plain": [
       "<Figure size 432x288 with 1 Axes>"
      ]
     },
     "metadata": {
      "needs_background": "light"
     },
     "output_type": "display_data"
    }
   ],
   "source": [
    "import matplotlib.pyplot as plt\n",
    "\n",
    "#accuracy graph\n",
    "plt.plot(model_history.history['accuracy'])\n",
    "plt.plot(model_history.history['val_accuracy'])\n",
    "plt.title('Val accuracy & Training accuracy')\n",
    "\n",
    "plt.xlabel('epochs(iterations)')\n",
    "plt.ylabel('accuracy')\n",
    "plt.show()"
   ]
  },
  {
   "cell_type": "code",
   "execution_count": 6,
   "metadata": {
    "colab": {
     "base_uri": "https://localhost:8080/",
     "height": 295
    },
    "id": "RkrcdEdZLoes",
    "outputId": "4f53aa66-7de8-4f33-94aa-02744d904227"
   },
   "outputs": [
    {
     "data": {
      "image/png": "[encoded data removed]",
      "text/plain": [
       "<Figure size 432x288 with 1 Axes>"
      ]
     },
     "metadata": {
      "needs_background": "light"
     },
     "output_type": "display_data"
    }
   ],
   "source": [
    "#loss\n",
    "plt.plot(model_history.history['loss'])\n",
    "plt.plot(model_history.history['val_loss'])\n",
    "plt.title('Val loss & Training loss')\n",
    "\n",
    "plt.xlabel('epochs(iterations)')\n",
    "plt.ylabel('loss')\n",
    "plt.show()"
   ]
  },
  {
   "cell_type": "code",
   "execution_count": 7,
   "metadata": {
    "id": "gtwlltd8MZbN"
   },
   "outputs": [
    {
     "name": "stderr",
     "output_type": "stream",
     "text": [
      "2022-05-17 22:16:20.930938: W tensorflow/core/framework/cpu_allocator_impl.cc:82] Allocation of 31360000 exceeds 10% of free system memory.\n"
     ]
    }
   ],
   "source": [
    "predictions = neural_net.predict([x_test])"
   ]
  },
  {
   "cell_type": "code",
   "execution_count": 8,
   "metadata": {
    "colab": {
     "base_uri": "https://localhost:8080/"
    },
    "id": "JettvJorOsIp",
    "outputId": "05cf7ef6-d950-40c8-da66-54ef421bba9d"
   },
   "outputs": [
    {
     "name": "stdout",
     "output_type": "stream",
     "text": [
      "predicted value is:  4\n"
     ]
    }
   ],
   "source": [
    "import random as rand\n",
    "import numpy as np \n",
    "\n",
    "randomIndex = rand.randint(0, 10000)\n",
    "\n",
    "print(\"predicted value is: \", np.argmax(predictions[randomIndex]))"
   ]
  },
  {
   "cell_type": "code",
   "execution_count": 9,
   "metadata": {
    "colab": {
     "base_uri": "https://localhost:8080/",
     "height": 265
    },
    "id": "y4mQsWl1OuGV",
    "outputId": "32432c7b-c1e0-4c02-9a02-497b8e799095"
   },
   "outputs": [
    {
     "data": {
      "image/png": "[encoded data removed]",
      "text/plain": [
       "<Figure size 432x288 with 1 Axes>"
      ]
     },
     "metadata": {
      "needs_background": "light"
     },
     "output_type": "display_data"
    }
   ],
   "source": [
    "plt.imshow(x_test[randomIndex])\n",
    "plt.show()"
   ]
  },
  {
   "cell_type": "code",
   "execution_count": 37,
   "metadata": {
    "id": "i5H9Qb99DLjF"
   },
   "outputs": [
    {
     "name": "stdout",
     "output_type": "stream",
     "text": [
      "11\n",
      "21\n",
      "22\n",
      "50\n",
      "54\n",
      "66\n",
      "81\n",
      "88\n",
      "91\n",
      "98\n"
     ]
    }
   ],
   "source": [
    "#images labeled as 6\n",
    "six_indices = []\n",
    "\n",
    "counter = 0\n",
    "\n",
    "for i in range(x_test.shape[0]):\n",
    "    if y_test[i][6] == 1:\n",
    "        print(i)\n",
    "        six_indices.append(i)\n",
    "        counter +=1\n",
    "    if counter ==10:\n",
    "        break;"
   ]
  },
  {
   "cell_type": "code",
   "execution_count": 38,
   "metadata": {
    "colab": {
     "base_uri": "https://localhost:8080/"
    },
    "id": "R0puWF3UT3Df",
    "outputId": "7c4988b1-adff-44a5-95fb-d3b656447315"
   },
   "outputs": [
    {
     "name": "stdout",
     "output_type": "stream",
     "text": [
      "7\n",
      "9\n",
      "12\n",
      "16\n",
      "20\n",
      "58\n",
      "62\n",
      "73\n",
      "78\n",
      "92\n"
     ]
    }
   ],
   "source": [
    "#images labeled as 9\n",
    "nine_indices = []\n",
    "\n",
    "counter = 0\n",
    "\n",
    "for i in range(x_test.shape[0]):\n",
    "    if y_test[i][9] == 1:\n",
    "        print(i)\n",
    "        nine_indices.append(i)\n",
    "        counter +=1\n",
    "    if counter ==10:\n",
    "        break;"
   ]
  },
  {
   "cell_type": "code",
   "execution_count": 39,
   "metadata": {},
   "outputs": [
    {
     "name": "stdout",
     "output_type": "stream",
     "text": [
      "4\n",
      "6\n",
      "19\n",
      "24\n",
      "27\n",
      "33\n",
      "42\n",
      "48\n",
      "49\n",
      "56\n"
     ]
    }
   ],
   "source": [
    "# Images labeled as 4\n",
    "four_indices = []\n",
    "\n",
    "counter = 0\n",
    "\n",
    "for i in range(x_test.shape[0]):\n",
    "    if y_test[i][4] == 1:\n",
    "        print(i)\n",
    "        four_indices.append(i)\n",
    "        counter +=1\n",
    "    if counter ==10:\n",
    "        break;"
   ]
  },
  {
   "cell_type": "code",
   "execution_count": 40,
   "metadata": {},
   "outputs": [
    {
     "data": {
      "text/plain": [
       "10"
      ]
     },
     "execution_count": 40,
     "metadata": {},
     "output_type": "execute_result"
    }
   ],
   "source": [
    "len(six_indices)"
   ]
  },
  {
   "cell_type": "code",
   "execution_count": 41,
   "metadata": {},
   "outputs": [
    {
     "data": {
      "text/plain": [
       "10"
      ]
     },
     "execution_count": 41,
     "metadata": {},
     "output_type": "execute_result"
    }
   ],
   "source": [
    "len(four_indices)"
   ]
  },
  {
   "cell_type": "code",
   "execution_count": 42,
   "metadata": {},
   "outputs": [
    {
     "data": {
      "text/plain": [
       "10"
      ]
     },
     "execution_count": 42,
     "metadata": {},
     "output_type": "execute_result"
    }
   ],
   "source": [
    "len(nine_indices)"
   ]
  },
  {
   "cell_type": "code",
   "execution_count": null,
   "metadata": {
    "colab": {
     "base_uri": "https://localhost:8080/"
    },
    "id": "KfRcLu9O6btf",
    "outputId": "2f3d1e25-0996-417f-eda3-5502973d122f"
   },
   "outputs": [],
   "source": []
  },
  {
   "cell_type": "code",
   "execution_count": null,
   "metadata": {},
   "outputs": [],
   "source": []
  },
  {
   "cell_type": "code",
   "execution_count": null,
   "metadata": {},
   "outputs": [],
   "source": []
  }
 ],
 "metadata": {
  "colab": {
   "collapsed_sections": [],
   "name": "MNISTAss.ipynb",
   "provenance": []
  },
  "kernelspec": {
   "display_name": "Python 3 (ipykernel)",
   "language": "python",
   "name": "python3"
  },
  "language_info": {
   "codemirror_mode": {
    "name": "ipython",
    "version": 3
   },
   "file_extension": ".py",
   "mimetype": "text/x-python",
   "name": "python",
   "nbconvert_exporter": "python",
   "pygments_lexer": "ipython3",
   "version": "3.9.2"
  }
 },
 "nbformat": 4,
 "nbformat_minor": 4
}
