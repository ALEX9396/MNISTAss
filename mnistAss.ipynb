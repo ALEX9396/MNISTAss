{
  "nbformat": 4,
  "nbformat_minor": 0,
  "metadata": {
    "colab": {
      "name": "mnistAss.ipynb",
      "provenance": [],
      "authorship_tag": "ABX9TyN4c/HltFq/zP3eD0iGwc/P"
    },
    "kernelspec": {
      "name": "python3",
      "display_name": "Python 3"
    },
    "language_info": {
      "name": "python"
    }
  },
  "cells": [
    {
      "cell_type": "code",
      "execution_count": null,
      "metadata": {
        "id": "H6-n3fICEy1t"
      },
      "outputs": [],
      "source": [
        ""
      ]
    }
  ]
}