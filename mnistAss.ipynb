{
  "cells": [
    {
      "cell_type": "code",
      "execution_count": 3,
      "metadata": {},
      "outputs": [],
      "source": [
        "#MNIST Assignment\n",
        "#group 3"
      ]
    },
    {
      "cell_type": "code",
      "execution_count": 4,
      "metadata": {
        "colab": {
          "base_uri": "https://localhost:8080/"
        },
        "id": "H6-n3fICEy1t",
        "outputId": "6209ed17-a88c-4d7d-969a-910edca6026b"
      },
      "outputs": [],
      "source": [
        "import tensorflow as tf \n",
        "\n",
        "#get dataset\n",
        "mnist = tf.keras.datasets.mnist\n",
        "(x_train, y_train), (x_test, y_test) = mnist.load_data()"
      ]
    },
    {
      "cell_type": "code",
      "execution_count": 5,
      "metadata": {
        "id": "xd4Enc0dGUjk"
      },
      "outputs": [],
      "source": [
        "#normalization\n",
        "x_train = x_train/255\n",
        "x_test = x_test/255"
      ]
    },
    {
      "cell_type": "code",
      "execution_count": 6,
      "metadata": {
        "colab": {
          "base_uri": "https://localhost:8080/"
        },
        "id": "j5l3H4Z-IeFQ",
        "outputId": "b1d9d4f1-42ad-4333-dc92-983c29fb435d"
      },
      "outputs": [
        {
          "name": "stdout",
          "output_type": "stream",
          "text": [
            "Model: \"sequential\"\n",
            "_________________________________________________________________\n",
            " Layer (type)                Output Shape              Param #   \n",
            "=================================================================\n",
            " flatten (Flatten)           (None, 784)               0         \n",
            "                                                                 \n",
            " dense (Dense)               (None, 16)                12560     \n",
            "                                                                 \n",
            " dense_1 (Dense)             (None, 16)                272       \n",
            "                                                                 \n",
            " dense_2 (Dense)             (None, 10)                170       \n",
            "                                                                 \n",
            "=================================================================\n",
            "Total params: 13,002\n",
            "Trainable params: 13,002\n",
            "Non-trainable params: 0\n",
            "_________________________________________________________________\n"
          ]
        }
      ],
      "source": [
        "#neural net\n",
        "neural_net = tf.keras.Sequential()\n",
        "neural_net.add(tf.keras.layers.Flatten(input_shape=(28, 28)))\n",
        "neural_net.add(tf.keras.layers.Dense(16, activation='relu'))\n",
        "neural_net.add(tf.keras.layers.Dense(16, activation='relu'))\n",
        "neural_net.add(tf.keras.layers.Dense(10, activation='softmax'))\n",
        "\n",
        "neural_net.summary()"
      ]
    },
    {
      "cell_type": "code",
      "execution_count": 7,
      "metadata": {
        "id": "YwQBDu5zMvLv"
      },
      "outputs": [
        {
          "name": "stdout",
          "output_type": "stream",
          "text": [
            "Epoch 1/10\n",
            "1500/1500 [==============================] - 8s 2ms/step - loss: 0.5080 - accuracy: 0.8511 - val_loss: 0.2609 - val_accuracy: 0.9260\n",
            "Epoch 2/10\n",
            "1500/1500 [==============================] - 3s 2ms/step - loss: 0.2446 - accuracy: 0.9292 - val_loss: 0.2102 - val_accuracy: 0.9388\n",
            "Epoch 3/10\n",
            "1500/1500 [==============================] - 3s 2ms/step - loss: 0.2054 - accuracy: 0.9401 - val_loss: 0.1893 - val_accuracy: 0.9474\n",
            "Epoch 4/10\n",
            "1500/1500 [==============================] - 3s 2ms/step - loss: 0.1848 - accuracy: 0.9446 - val_loss: 0.1820 - val_accuracy: 0.9474\n",
            "Epoch 5/10\n",
            "1500/1500 [==============================] - 3s 2ms/step - loss: 0.1707 - accuracy: 0.9484 - val_loss: 0.1765 - val_accuracy: 0.9489\n",
            "Epoch 6/10\n",
            "1500/1500 [==============================] - 3s 2ms/step - loss: 0.1595 - accuracy: 0.9523 - val_loss: 0.1675 - val_accuracy: 0.9531\n",
            "Epoch 7/10\n",
            "1500/1500 [==============================] - 3s 2ms/step - loss: 0.1502 - accuracy: 0.9545 - val_loss: 0.1659 - val_accuracy: 0.9529\n",
            "Epoch 8/10\n",
            "1500/1500 [==============================] - 3s 2ms/step - loss: 0.1433 - accuracy: 0.9570 - val_loss: 0.1718 - val_accuracy: 0.9512\n",
            "Epoch 9/10\n",
            "1500/1500 [==============================] - 3s 2ms/step - loss: 0.1361 - accuracy: 0.9585 - val_loss: 0.1599 - val_accuracy: 0.9540\n",
            "Epoch 10/10\n",
            "1500/1500 [==============================] - 3s 2ms/step - loss: 0.1313 - accuracy: 0.9602 - val_loss: 0.1591 - val_accuracy: 0.9535\n"
          ]
        }
      ],
      "source": [
        "#training\n",
        "neural_net.compile('adam', loss='categorical_crossentropy', metrics = ['accuracy'])\n",
        "\n",
        "y_train = tf.keras.utils.to_categorical(y_train, num_classes = 10)\n",
        "y_test = tf.keras.utils.to_categorical(y_test, num_classes = 10)\n",
        "\n",
        "model_history = neural_net.fit(x_train, y_train, validation_split=.2, batch_size=32, epochs=10)"
      ]
    },
    {
      "cell_type": "code",
      "execution_count": 8,
      "metadata": {},
      "outputs": [
        {
          "data": {
            "image/png": "[encoded data removed]",
            "text/plain": [
              "<Figure size 432x288 with 1 Axes>"
            ]
          },
          "metadata": {
            "needs_background": "light"
          },
          "output_type": "display_data"
        }
      ],
      "source": [
        "import matplotlib.pyplot as plt\n",
        "\n",
        "#accuracy graph\n",
        "plt.plot(model_history.history['accuracy'])\n",
        "plt.plot(model_history.history['val_accuracy'])\n",
        "plt.title('Val accuracy & Training accuracy')\n",
        "\n",
        "plt.xlabel('epochs(iterations)')\n",
        "plt.ylabel('accuracy')\n",
        "plt.show()"
      ]
    },
    {
      "cell_type": "code",
      "execution_count": 9,
      "metadata": {},
      "outputs": [
        {
          "data": {
            "image/png": "[encoded data removed]",
            "text/plain": [
              "<Figure size 432x288 with 1 Axes>"
            ]
          },
          "metadata": {
            "needs_background": "light"
          },
          "output_type": "display_data"
        }
      ],
      "source": [
        "#loss\n",
        "plt.plot(model_history.history['loss'])\n",
        "plt.plot(model_history.history['val_loss'])\n",
        "plt.title('Val loss & Training loss')\n",
        "\n",
        "plt.xlabel('epochs(iterations)')\n",
        "plt.ylabel('loss')\n",
        "plt.show()"
      ]
    },
    {
      "cell_type": "code",
      "execution_count": null,
      "metadata": {},
      "outputs": [],
      "source": []
    }
  ],
  "metadata": {
    "colab": {
      "authorship_tag": "ABX9TyNinb2YfQKgOr4L8oejETib",
      "name": "mnistAss.ipynb",
      "provenance": []
    },
    "interpreter": {
      "hash": "f031f57dcd0e629716133c7939a2a1811ec6cce4fc2d223c3b4ad004d4a671d7"
    },
    "kernelspec": {
      "display_name": "Python 3.9.5 64-bit",
      "language": "python",
      "name": "python3"
    },
    "language_info": {
      "codemirror_mode": {
        "name": "ipython",
        "version": 3
      },
      "file_extension": ".py",
      "mimetype": "text/x-python",
      "name": "python",
      "nbconvert_exporter": "python",
      "pygments_lexer": "ipython3",
      "version": "3.9.5"
    }
  },
  "nbformat": 4,
  "nbformat_minor": 0
}
